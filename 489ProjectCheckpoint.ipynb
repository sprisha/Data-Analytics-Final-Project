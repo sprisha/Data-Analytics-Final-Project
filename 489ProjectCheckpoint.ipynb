{
 "cells": [
  {
   "cell_type": "code",
   "execution_count": 2,
   "metadata": {},
   "outputs": [],
   "source": [
    "import tarfile\n",
    "from sklearn.feature_extraction.text import TfidfVectorizer \n",
    "import os\n",
    "import pandas as pd\n",
    "import numpy as np\n",
    "from sklearn.ensemble import RandomForestClassifier\n",
    "from sklearn.metrics import confusion_matrix, classification_report\n",
    "import seaborn as sns\n",
    "from sklearn.feature_extraction.text import CountVectorizer \n",
    "from sklearn.feature_extraction.text import TfidfTransformer "
   ]
  },
  {
   "cell_type": "code",
   "execution_count": 3,
   "metadata": {},
   "outputs": [],
   "source": [
    "gp19 = ['GP\\part1', 'GP\\part2','GP\\part3',\n",
    "       'GP\\part4', 'GP\\part5', 'GP\\part6', \n",
    "       'GP\\part7', 'GP\\part8', 'GP\\part9']\n",
    "\n",
    "filenames_gp19 = []\n",
    "filenames_gp1012 = []\n",
    "filenames_kitchen = []\n",
    "filenames_lokay = []\n",
    "\n",
    "for (root,dirs,files) in os.walk('GP', topdown=True):\n",
    "    if(root in gp19  ):\n",
    "        for file in files:\n",
    "            filenames_gp19.append(root+'\\\\' + file)\n",
    "    else:\n",
    "         for file in files:\n",
    "            filenames_gp1012.append(root+'\\\\' + file)\n",
    "    \n",
    "            \n",
    "for (root,dirs,files) in os.walk('kitchen-l', topdown=True):\n",
    "        for file in files:\n",
    "            filenames_kitchen.append(root+'\\\\' + file)\n",
    "            \n",
    "for (root,dirs,files) in os.walk('lokay-m', topdown=True):\n",
    "        for file in files:\n",
    "            filenames_lokay.append(root+'\\\\' + file)\n",
    "            \n",
    "dataset_spam = filenames_gp19 +filenames_gp1012\n",
    "dataset_ham = filenames_kitchen + filenames_lokay"
   ]
  },
  {
   "cell_type": "code",
   "execution_count": 4,
   "metadata": {},
   "outputs": [],
   "source": [
    "vectorizer =TfidfVectorizer(use_idf=True, input = 'filename',  decode_error='ignore', encoding='utf-8') \n",
    "#instantiate CountVectorizer() \n",
    "cv=CountVectorizer(input='filename') "
   ]
  },
  {
   "cell_type": "markdown",
   "metadata": {},
   "source": [
    "### Spam "
   ]
  },
  {
   "cell_type": "code",
   "execution_count": 5,
   "metadata": {},
   "outputs": [],
   "source": [
    "word_count_vector=cv.fit_transform(dataset_spam)"
   ]
  },
  {
   "cell_type": "code",
   "execution_count": 6,
   "metadata": {},
   "outputs": [
    {
     "data": {
      "text/plain": [
       "TfidfTransformer()"
      ]
     },
     "execution_count": 6,
     "metadata": {},
     "output_type": "execute_result"
    }
   ],
   "source": [
    "tfidf_transformer=TfidfTransformer(smooth_idf=True,use_idf=True) \n",
    "tfidf_transformer.fit(word_count_vector)"
   ]
  },
  {
   "cell_type": "code",
   "execution_count": 7,
   "metadata": {},
   "outputs": [],
   "source": [
    "tfidf_spam = vectorizer.fit_transform(dataset_spam)"
   ]
  },
  {
   "cell_type": "code",
   "execution_count": 8,
   "metadata": {},
   "outputs": [],
   "source": [
    "# tf-idf scores \n",
    "count_vector=cv.transform(dataset_spam)\n",
    "tf_idf_vector=tfidf_transformer.transform(count_vector)"
   ]
  },
  {
   "cell_type": "code",
   "execution_count": 9,
   "metadata": {},
   "outputs": [
    {
     "data": {
      "text/plain": [
       "<13719x368099 sparse matrix of type '<class 'numpy.float64'>'\n",
       "\twith 3160445 stored elements in Compressed Sparse Row format>"
      ]
     },
     "execution_count": 9,
     "metadata": {},
     "output_type": "execute_result"
    }
   ],
   "source": [
    "tfidf_spam"
   ]
  },
  {
   "cell_type": "code",
   "execution_count": 10,
   "metadata": {},
   "outputs": [
    {
     "data": {
      "text/plain": [
       "<13719x368099 sparse matrix of type '<class 'numpy.float64'>'\n",
       "\twith 3160445 stored elements in Compressed Sparse Row format>"
      ]
     },
     "execution_count": 10,
     "metadata": {},
     "output_type": "execute_result"
    }
   ],
   "source": [
    "tf_idf_vector"
   ]
  },
  {
   "cell_type": "code",
   "execution_count": 11,
   "metadata": {},
   "outputs": [
    {
     "data": {
      "text/plain": [
       "<13719x368099 sparse matrix of type '<class 'numpy.int64'>'\n",
       "\twith 3160445 stored elements in Compressed Sparse Row format>"
      ]
     },
     "execution_count": 11,
     "metadata": {},
     "output_type": "execute_result"
    }
   ],
   "source": [
    "word_count_vector"
   ]
  },
  {
   "cell_type": "code",
   "execution_count": 12,
   "metadata": {},
   "outputs": [],
   "source": [
    "Number_of_spam_doc = 13719"
   ]
  },
  {
   "cell_type": "code",
   "execution_count": 13,
   "metadata": {},
   "outputs": [],
   "source": [
    "tf_idf_cf_spam = np.empty(368099)\n",
    "feature_names = cv.get_feature_names_out()"
   ]
  },
  {
   "cell_type": "code",
   "execution_count": 14,
   "metadata": {},
   "outputs": [],
   "source": [
    "tf_idf_T = tf_idf_vector.T\n",
    "word_count_T = word_count_vector.T"
   ]
  },
  {
   "cell_type": "code",
   "execution_count": 15,
   "metadata": {},
   "outputs": [],
   "source": [
    "tf_idf_cf_spam = np.empty(shape=(368099,2), dtype=object)\n"
   ]
  },
  {
   "cell_type": "code",
   "execution_count": 17,
   "metadata": {},
   "outputs": [
    {
     "name": "stdout",
     "output_type": "stream",
     "text": [
      "0\n",
      "1000\n",
      "2000\n",
      "3000\n",
      "4000\n",
      "5000\n",
      "6000\n",
      "7000\n",
      "8000\n",
      "9000\n",
      "10000\n",
      "11000\n",
      "12000\n",
      "13000\n",
      "14000\n",
      "15000\n",
      "16000\n",
      "17000\n",
      "18000\n",
      "19000\n",
      "20000\n",
      "21000\n",
      "22000\n",
      "23000\n",
      "24000\n",
      "25000\n",
      "26000\n",
      "27000\n",
      "28000\n",
      "29000\n",
      "30000\n",
      "31000\n",
      "32000\n",
      "33000\n",
      "34000\n",
      "35000\n",
      "36000\n",
      "37000\n",
      "38000\n",
      "39000\n",
      "40000\n",
      "41000\n",
      "42000\n",
      "43000\n",
      "44000\n",
      "45000\n",
      "46000\n",
      "47000\n",
      "48000\n",
      "49000\n",
      "50000\n",
      "51000\n",
      "52000\n",
      "53000\n",
      "54000\n",
      "55000\n",
      "56000\n",
      "57000\n",
      "58000\n",
      "59000\n",
      "60000\n",
      "61000\n",
      "62000\n",
      "63000\n",
      "64000\n",
      "65000\n",
      "66000\n",
      "67000\n",
      "68000\n",
      "69000\n",
      "70000\n",
      "71000\n",
      "72000\n",
      "73000\n",
      "74000\n",
      "75000\n",
      "76000\n",
      "77000\n",
      "78000\n",
      "79000\n",
      "80000\n",
      "81000\n",
      "82000\n",
      "83000\n",
      "84000\n",
      "85000\n",
      "86000\n",
      "87000\n",
      "88000\n",
      "89000\n",
      "90000\n",
      "91000\n",
      "92000\n",
      "93000\n",
      "94000\n",
      "95000\n",
      "96000\n",
      "97000\n",
      "98000\n",
      "99000\n",
      "100000\n",
      "101000\n",
      "102000\n",
      "103000\n",
      "104000\n",
      "105000\n",
      "106000\n",
      "107000\n",
      "108000\n",
      "109000\n",
      "110000\n",
      "111000\n",
      "112000\n",
      "113000\n",
      "114000\n",
      "115000\n",
      "116000\n",
      "117000\n",
      "118000\n",
      "119000\n",
      "120000\n",
      "121000\n",
      "122000\n",
      "123000\n",
      "124000\n",
      "125000\n",
      "126000\n",
      "127000\n",
      "128000\n",
      "129000\n",
      "130000\n",
      "131000\n",
      "132000\n",
      "133000\n",
      "134000\n",
      "135000\n",
      "136000\n",
      "137000\n",
      "138000\n",
      "139000\n",
      "140000\n",
      "141000\n",
      "142000\n",
      "143000\n",
      "144000\n",
      "145000\n",
      "146000\n",
      "147000\n",
      "148000\n",
      "149000\n",
      "150000\n",
      "151000\n",
      "152000\n",
      "153000\n",
      "154000\n",
      "155000\n",
      "156000\n",
      "157000\n",
      "158000\n",
      "159000\n",
      "160000\n",
      "161000\n",
      "162000\n",
      "163000\n",
      "164000\n",
      "165000\n",
      "166000\n",
      "167000\n",
      "168000\n",
      "169000\n",
      "170000\n",
      "171000\n",
      "172000\n",
      "173000\n",
      "174000\n",
      "175000\n",
      "176000\n",
      "177000\n",
      "178000\n",
      "179000\n",
      "180000\n",
      "181000\n",
      "182000\n",
      "183000\n",
      "184000\n",
      "185000\n",
      "186000\n",
      "187000\n",
      "188000\n",
      "189000\n",
      "190000\n",
      "191000\n",
      "192000\n",
      "193000\n",
      "194000\n",
      "195000\n",
      "196000\n",
      "197000\n",
      "198000\n",
      "199000\n",
      "200000\n",
      "201000\n",
      "202000\n",
      "203000\n",
      "204000\n",
      "205000\n",
      "206000\n",
      "207000\n",
      "208000\n",
      "209000\n",
      "210000\n",
      "211000\n",
      "212000\n",
      "213000\n",
      "214000\n",
      "215000\n",
      "216000\n",
      "217000\n",
      "218000\n",
      "219000\n",
      "220000\n",
      "221000\n",
      "222000\n",
      "223000\n",
      "224000\n",
      "225000\n",
      "226000\n",
      "227000\n",
      "228000\n",
      "229000\n",
      "230000\n",
      "231000\n",
      "232000\n",
      "233000\n",
      "234000\n",
      "235000\n",
      "236000\n",
      "237000\n",
      "238000\n",
      "239000\n",
      "240000\n",
      "241000\n",
      "242000\n",
      "243000\n",
      "244000\n",
      "245000\n",
      "246000\n",
      "247000\n",
      "248000\n",
      "249000\n",
      "250000\n",
      "251000\n",
      "252000\n",
      "253000\n",
      "254000\n",
      "255000\n",
      "256000\n",
      "257000\n",
      "258000\n",
      "259000\n",
      "260000\n",
      "261000\n",
      "262000\n",
      "263000\n",
      "264000\n",
      "265000\n",
      "266000\n",
      "267000\n",
      "268000\n",
      "269000\n",
      "270000\n",
      "271000\n",
      "272000\n",
      "273000\n",
      "274000\n",
      "275000\n",
      "276000\n",
      "277000\n",
      "278000\n",
      "279000\n",
      "280000\n",
      "281000\n",
      "282000\n",
      "283000\n",
      "284000\n",
      "285000\n",
      "286000\n",
      "287000\n",
      "288000\n",
      "289000\n",
      "290000\n",
      "291000\n",
      "292000\n",
      "293000\n",
      "294000\n",
      "295000\n",
      "296000\n",
      "297000\n",
      "298000\n",
      "299000\n",
      "300000\n",
      "301000\n",
      "302000\n",
      "303000\n",
      "304000\n",
      "305000\n",
      "306000\n",
      "307000\n",
      "308000\n",
      "309000\n",
      "310000\n",
      "311000\n",
      "312000\n",
      "313000\n",
      "314000\n",
      "315000\n",
      "316000\n",
      "317000\n",
      "318000\n",
      "319000\n",
      "320000\n",
      "321000\n",
      "322000\n",
      "323000\n",
      "324000\n",
      "325000\n",
      "326000\n",
      "327000\n",
      "328000\n",
      "329000\n",
      "330000\n",
      "331000\n",
      "332000\n",
      "333000\n",
      "334000\n",
      "335000\n",
      "336000\n",
      "337000\n",
      "338000\n",
      "339000\n",
      "340000\n",
      "341000\n",
      "342000\n",
      "343000\n",
      "344000\n",
      "345000\n",
      "346000\n",
      "347000\n",
      "348000\n",
      "349000\n",
      "350000\n",
      "351000\n",
      "352000\n",
      "353000\n",
      "354000\n",
      "355000\n",
      "356000\n",
      "357000\n",
      "358000\n",
      "359000\n",
      "360000\n",
      "361000\n",
      "362000\n",
      "363000\n",
      "364000\n",
      "365000\n",
      "366000\n",
      "367000\n",
      "368000\n"
     ]
    }
   ],
   "source": [
    "for i in range(0,368099):\n",
    "    if(i % 1000 == 0):\n",
    "        print(i) \n",
    "    score_sum = tf_idf_T[i].sum()\n",
    "    cf = word_count_T[i].sum() / Number_of_spam_doc\n",
    "    tf_idf_cf_spam[i] = [feature_names[i],score_sum * cf]"
   ]
  },
  {
   "cell_type": "code",
   "execution_count": 18,
   "metadata": {},
   "outputs": [
    {
     "data": {
      "text/plain": [
       "array([['00', 317.92252083031013],\n",
       "       ['000', 9.749035230271677],\n",
       "       ['0000', 0.014171763288769533],\n",
       "       ...,\n",
       "       ['zzztt', 1.6940740516574812e-06],\n",
       "       ['zzzwgvuf8db2hcmtlhmys8pnluq0wyjwas18yqxnwmmb5nch7zojmyzyxcnoow',\n",
       "        5.816215855574052e-06],\n",
       "       ['zzzytmymd', 4.513965343949714e-06]], dtype=object)"
      ]
     },
     "execution_count": 18,
     "metadata": {},
     "output_type": "execute_result"
    }
   ],
   "source": [
    "tf_idf_cf_spam"
   ]
  },
  {
   "cell_type": "code",
   "execution_count": 24,
   "metadata": {},
   "outputs": [
    {
     "name": "stdout",
     "output_type": "stream",
     "text": [
      "  (0, 0)\t0.005756117865710764\n",
      "  (0, 1)\t0.010444995038898579\n",
      "  (0, 2)\t0.016945022366587955\n",
      "  (0, 3)\t0.01524393518864811\n",
      "  (0, 4)\t0.015101339790136255\n",
      "  (0, 5)\t0.021880302369435146\n",
      "  (0, 6)\t0.020064724491008823\n",
      "  (0, 7)\t0.01053182624047636\n",
      "  (0, 8)\t0.014763612959934027\n",
      "  (0, 9)\t0.015132522030880837\n",
      "  (0, 10)\t0.015243198466395245\n",
      "  (0, 11)\t0.0141023927427161\n",
      "  (0, 12)\t0.014379976095577127\n",
      "  (0, 13)\t0.017053162001942266\n",
      "  (0, 14)\t0.032124726714754664\n",
      "  (0, 15)\t0.01910644562936398\n",
      "  (0, 16)\t0.011255445909787517\n",
      "  (0, 17)\t0.01448447400471542\n",
      "  (0, 18)\t0.018077956034722974\n",
      "  (0, 19)\t0.029382912910348\n",
      "  (0, 20)\t0.009126833980663714\n",
      "  (0, 21)\t0.010771024140582968\n",
      "  (0, 22)\t0.023152438500682146\n",
      "  (0, 23)\t0.01106314316113006\n",
      "  (0, 24)\t0.008542168508728023\n",
      "  :\t:\n",
      "  (0, 13694)\t0.00808004330535756\n",
      "  (0, 13695)\t0.00804948990278461\n",
      "  (0, 13696)\t0.011348837977481737\n",
      "  (0, 13697)\t0.0004720368326894867\n",
      "  (0, 13698)\t0.024156264444832834\n",
      "  (0, 13699)\t0.024778915602308084\n",
      "  (0, 13700)\t0.01583881317340474\n",
      "  (0, 13701)\t0.017661108359753815\n",
      "  (0, 13702)\t0.010479116658414328\n",
      "  (0, 13703)\t0.01794055117672299\n",
      "  (0, 13704)\t0.0213757567517081\n",
      "  (0, 13705)\t0.030550720057404994\n",
      "  (0, 13706)\t0.016106740730512086\n",
      "  (0, 13707)\t0.0162213064893964\n",
      "  (0, 13708)\t0.0071792404643505\n",
      "  (0, 13709)\t0.007900313433646522\n",
      "  (0, 13710)\t0.010429881143356844\n",
      "  (0, 13711)\t0.00533918474050588\n",
      "  (0, 13712)\t0.01749355629551955\n",
      "  (0, 13713)\t0.021028669985011638\n",
      "  (0, 13714)\t0.0069246886678965966\n",
      "  (0, 13715)\t0.004916738618204791\n",
      "  (0, 13716)\t0.013993881625191008\n",
      "  (0, 13717)\t0.015259660157987829\n",
      "  (0, 13718)\t0.01714227336543285\n",
      "194.63514941635168\n",
      "0.9989795174575407\n",
      "194.43652764422333\n"
     ]
    }
   ],
   "source": [
    "for i in range(0,1):\n",
    "    score_sum = tf_idf_T[i].sum()\n",
    "    print(score_sum)\n",
    "    cf = (word_count_T[i].count_nonzero()) / Number_of_spam_doc\n",
    "    print(cf)\n",
    "    print(score_sum*cf)"
   ]
  },
  {
   "cell_type": "code",
   "execution_count": 31,
   "metadata": {},
   "outputs": [
    {
     "data": {
      "text/plain": [
       "array([['00', 317.92252083031013],\n",
       "       ['000', 9.749035230271677],\n",
       "       ['0000', 0.014171763288769533],\n",
       "       ...,\n",
       "       ['zzztt', 1.6940740516574812e-06],\n",
       "       ['zzzwgvuf8db2hcmtlhmys8pnluq0wyjwas18yqxnwmmb5nch7zojmyzyxcnoow',\n",
       "        5.816215855574052e-06],\n",
       "       ['zzzytmymd', 4.513965343949714e-06]], dtype=object)"
      ]
     },
     "execution_count": 31,
     "metadata": {},
     "output_type": "execute_result"
    }
   ],
   "source": [
    "tf_idf_cf_spam\n"
   ]
  },
  {
   "cell_type": "code",
   "execution_count": 32,
   "metadata": {},
   "outputs": [
    {
     "data": {
      "text/plain": [
       "array([['22n027', 9.763587889988942e-09],\n",
       "       ['2014', 9.763587889988942e-09],\n",
       "       ['psp30u', 9.763587889988942e-09],\n",
       "       ...,\n",
       "       ['font', 13587.226945391601],\n",
       "       ['3d', 29798.395158363874],\n",
       "       ['br', 52931.186285904616]], dtype=object)"
      ]
     },
     "execution_count": 32,
     "metadata": {},
     "output_type": "execute_result"
    }
   ],
   "source": [
    "tf_idf_cf_spam[tf_idf_cf_spam[:,1].argsort()]"
   ]
  },
  {
   "cell_type": "code",
   "execution_count": null,
   "metadata": {},
   "outputs": [],
   "source": []
  }
 ],
 "metadata": {
  "kernelspec": {
   "display_name": "Python 3",
   "language": "python",
   "name": "python3"
  },
  "language_info": {
   "codemirror_mode": {
    "name": "ipython",
    "version": 3
   },
   "file_extension": ".py",
   "mimetype": "text/x-python",
   "name": "python",
   "nbconvert_exporter": "python",
   "pygments_lexer": "ipython3",
   "version": "3.8.5"
  }
 },
 "nbformat": 4,
 "nbformat_minor": 4
}
